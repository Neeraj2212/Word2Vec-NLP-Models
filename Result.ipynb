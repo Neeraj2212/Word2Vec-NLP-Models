{
 "cells": [
  {
   "cell_type": "code",
   "execution_count": 1,
   "metadata": {},
   "outputs": [],
   "source": [
    "from gensim.models import Word2Vec"
   ]
  },
  {
   "cell_type": "code",
   "execution_count": 2,
   "metadata": {},
   "outputs": [],
   "source": [
    "model = Word2Vec.load('Final_Model.model')"
   ]
  },
  {
   "cell_type": "code",
   "execution_count": 3,
   "metadata": {
    "scrolled": true
   },
   "outputs": [
    {
     "data": {
      "text/plain": [
       "[('serivce', 0.7084168791770935),\n",
       " ('services', 0.6444756984710693),\n",
       " ('sevice', 0.605974555015564),\n",
       " ('serive', 0.5111610889434814),\n",
       " ('roomservice', 0.5003809928894043),\n",
       " ('serice', 0.4910339415073395),\n",
       " ('servicestaff', 0.4674631357192993),\n",
       " ('waitstaff', 0.4646376967430115),\n",
       " ('consistently', 0.4561903774738312),\n",
       " ('servers', 0.43362563848495483)]"
      ]
     },
     "execution_count": 3,
     "metadata": {},
     "output_type": "execute_result"
    }
   ],
   "source": [
    "model.wv.most_similar('service')"
   ]
  },
  {
   "cell_type": "code",
   "execution_count": 4,
   "metadata": {},
   "outputs": [
    {
     "data": {
      "text/plain": [
       "[('amazing', 0.8049078583717346),\n",
       " ('fabulous', 0.770982027053833),\n",
       " ('great', 0.7433052062988281),\n",
       " ('incredible', 0.730563223361969),\n",
       " ('wonderful', 0.7206323146820068),\n",
       " ('awsome', 0.7120246291160583),\n",
       " ('fantastic', 0.7087054252624512),\n",
       " ('terrific', 0.6784623861312866),\n",
       " ('phenomenal', 0.651564359664917),\n",
       " ('loved', 0.6296451091766357)]"
      ]
     },
     "execution_count": 4,
     "metadata": {},
     "output_type": "execute_result"
    }
   ],
   "source": [
    "model.wv.most_similar('awesome')"
   ]
  },
  {
   "cell_type": "code",
   "execution_count": 5,
   "metadata": {},
   "outputs": [
    {
     "data": {
      "text/plain": [
       "0.75024855"
      ]
     },
     "execution_count": 5,
     "metadata": {},
     "output_type": "execute_result"
    }
   ],
   "source": [
    "model.wv.similarity('dirty','smelly')"
   ]
  },
  {
   "cell_type": "code",
   "execution_count": 6,
   "metadata": {},
   "outputs": [],
   "source": [
    "model2 = Word2Vec.load('Improved_Model.model')"
   ]
  },
  {
   "cell_type": "code",
   "execution_count": 7,
   "metadata": {},
   "outputs": [
    {
     "data": {
      "text/plain": [
       "0.73528695"
      ]
     },
     "execution_count": 7,
     "metadata": {},
     "output_type": "execute_result"
    }
   ],
   "source": [
    "model2.wv.similarity('dirty','smelly')"
   ]
  },
  {
   "cell_type": "code",
   "execution_count": 8,
   "metadata": {},
   "outputs": [
    {
     "data": {
      "text/plain": [
       "[('amaze', 0.7633216381072998),\n",
       " ('fabulous', 0.740149736404419),\n",
       " ('incredible', 0.7150496244430542),\n",
       " ('great', 0.7037701606750488),\n",
       " ('awsome', 0.6871654987335205),\n",
       " ('fantastic', 0.6837202310562134),\n",
       " ('wonderful', 0.6822420358657837),\n",
       " ('terrific', 0.6422981023788452),\n",
       " ('phenomenal', 0.6356637477874756),\n",
       " ('love', 0.6328110694885254)]"
      ]
     },
     "execution_count": 8,
     "metadata": {},
     "output_type": "execute_result"
    }
   ],
   "source": [
    "model2.wv.most_similar('awesome')"
   ]
  },
  {
   "cell_type": "code",
   "execution_count": 9,
   "metadata": {
    "scrolled": true
   },
   "outputs": [
    {
     "data": {
      "text/plain": [
       "[('property', 0.5583571195602417),\n",
       " ('establishment', 0.501708984375),\n",
       " ('accommodation', 0.4976744055747986),\n",
       " ('accomodation', 0.48282334208488464),\n",
       " ('place', 0.47406286001205444),\n",
       " ('london', 0.4286206364631653),\n",
       " ('experience', 0.4205217957496643),\n",
       " ('resort', 0.4189692437648773),\n",
       " ('novotel', 0.4152647852897644),\n",
       " ('competitor', 0.39186620712280273)]"
      ]
     },
     "execution_count": 9,
     "metadata": {},
     "output_type": "execute_result"
    }
   ],
   "source": [
    "model2.wv.most_similar('hotel')"
   ]
  },
  {
   "cell_type": "code",
   "execution_count": 10,
   "metadata": {},
   "outputs": [
    {
     "data": {
      "text/plain": [
       "[('property', 0.605391263961792),\n",
       " ('hotels', 0.5419090390205383),\n",
       " ('place', 0.518072247505188),\n",
       " ('accomodation', 0.5017620325088501),\n",
       " ('accommodation', 0.4942767024040222),\n",
       " ('establishment', 0.47728097438812256),\n",
       " ('resort', 0.4729914665222168),\n",
       " ('location', 0.44372791051864624),\n",
       " ('accommodations', 0.4220675826072693),\n",
       " ('novotel', 0.406036913394928)]"
      ]
     },
     "execution_count": 10,
     "metadata": {},
     "output_type": "execute_result"
    }
   ],
   "source": [
    "model.wv.most_similar('hotel')"
   ]
  },
  {
   "cell_type": "code",
   "execution_count": null,
   "metadata": {},
   "outputs": [],
   "source": []
  }
 ],
 "metadata": {
  "kernelspec": {
   "display_name": "Python 3",
   "language": "python",
   "name": "python3"
  },
  "language_info": {
   "codemirror_mode": {
    "name": "ipython",
    "version": 3
   },
   "file_extension": ".py",
   "mimetype": "text/x-python",
   "name": "python",
   "nbconvert_exporter": "python",
   "pygments_lexer": "ipython3",
   "version": "3.7.6"
  }
 },
 "nbformat": 4,
 "nbformat_minor": 4
}

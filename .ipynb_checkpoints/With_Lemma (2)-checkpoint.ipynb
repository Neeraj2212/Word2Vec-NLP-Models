{
 "cells": [
  {
   "cell_type": "code",
   "execution_count": 1,
   "metadata": {},
   "outputs": [],
   "source": [
    "import gensim "
   ]
  },
  {
   "cell_type": "code",
   "execution_count": null,
   "metadata": {},
   "outputs": [],
   "source": [
    "from spacy.lang.en import English\n",
    "nlp = English()"
   ]
  },
  {
   "cell_type": "code",
   "execution_count": 2,
   "metadata": {},
   "outputs": [],
   "source": [
    "\n",
    "def get_input(file , data):\n",
    "    with open(file , 'r' , encoding = 'utf8' ,errors = 'ignore') as f:\n",
    "        for text in f.read().split('\\n'):\n",
    "            try :\n",
    "                data.append(gensim.utils.simple_preprocess(gensim.parsing.preprocessing.remove_stopwords(text.lower())))\n",
    "            except:\n",
    "                pass\n",
    "        for word in data:\n",
    "            "
   ]
  },
  {
   "cell_type": "code",
   "execution_count": 3,
   "metadata": {},
   "outputs": [],
   "source": [
    "database  = []\n",
    "get_input('reviews_data.txt',database) "
   ]
  },
  {
   "cell_type": "code",
   "execution_count": 4,
   "metadata": {},
   "outputs": [
    {
     "name": "stdout",
     "output_type": "stream",
     "text": [
      "oct nice trendy hotel location bad stayed hotel night fairly new place taxi drivers know and or want drive there eventually arrived hotel pleasantly surprised decor lobby ground floor area stylish modern reception staff geeting aloha bit place guess briefed coroporate image as starwood preferred guest member given small gift upon check in couple fridge magnets gift box nice gesture my room nice roomy tea coffee facilities room complimentary bottles water plus toiletries bliss the location great metro stop need taxi planning going historic sites beijing ok chose breakfast hotel tasty good selection dishes couple computers use communal area pool table small swimming pool gym area definitely stay hotel again plan travel central beijing long time location ok plan lot shopping big shopping centre minutes away hotel plenty eating options around including restaurants serve dog meat\n"
     ]
    }
   ],
   "source": [
    "print(' '.join(database[0]))"
   ]
  },
  {
   "cell_type": "code",
   "execution_count": 5,
   "metadata": {},
   "outputs": [],
   "source": [
    "from gensim.models import Word2Vec"
   ]
  },
  {
   "cell_type": "code",
   "execution_count": 6,
   "metadata": {},
   "outputs": [],
   "source": [
    "w2v_model = Word2Vec(database,size= 150,window = 10 , min_count = 2,workers = 10)"
   ]
  },
  {
   "cell_type": "code",
   "execution_count": 7,
   "metadata": {},
   "outputs": [
    {
     "data": {
      "text/plain": [
       "(188811475, 208044870)"
      ]
     },
     "execution_count": 7,
     "metadata": {},
     "output_type": "execute_result"
    }
   ],
   "source": [
    "w2v_model.train(database, total_examples = len(database) , epochs = 10)"
   ]
  },
  {
   "cell_type": "code",
   "execution_count": 8,
   "metadata": {},
   "outputs": [],
   "source": [
    "w2v_model.save(\"Final_Model.model\")"
   ]
  },
  {
   "cell_type": "code",
   "execution_count": 9,
   "metadata": {},
   "outputs": [
    {
     "data": {
      "text/plain": [
       "[('played', 0.7059777975082397),\n",
       " ('games', 0.6599414348602295),\n",
       " ('playing', 0.6439013481140137),\n",
       " ('keno', 0.6280392408370972),\n",
       " ('plays', 0.5952407121658325),\n",
       " ('blackjack', 0.5901065468788147),\n",
       " ('game', 0.5770002603530884),\n",
       " ('tournaments', 0.574455201625824),\n",
       " ('roulette', 0.5690714120864868),\n",
       " ('bingo', 0.5682891607284546)]"
      ]
     },
     "execution_count": 9,
     "metadata": {},
     "output_type": "execute_result"
    }
   ],
   "source": [
    "w2v_model.wv.most_similar(\"play\")"
   ]
  },
  {
   "cell_type": "code",
   "execution_count": 10,
   "metadata": {},
   "outputs": [
    {
     "data": {
      "text/plain": [
       "[('amazing', 0.8049078583717346),\n",
       " ('fabulous', 0.770982027053833),\n",
       " ('great', 0.7433052062988281),\n",
       " ('incredible', 0.730563223361969),\n",
       " ('wonderful', 0.7206323146820068),\n",
       " ('awsome', 0.7120246291160583),\n",
       " ('fantastic', 0.7087054252624512),\n",
       " ('terrific', 0.6784623861312866),\n",
       " ('phenomenal', 0.651564359664917),\n",
       " ('loved', 0.6296451091766357)]"
      ]
     },
     "execution_count": 10,
     "metadata": {},
     "output_type": "execute_result"
    }
   ],
   "source": [
    "w2v_model.wv.most_similar('awesome')"
   ]
  },
  {
   "cell_type": "code",
   "execution_count": 11,
   "metadata": {},
   "outputs": [
    {
     "data": {
      "text/plain": [
       "[('vehicle', 0.7794618010520935),\n",
       " ('cars', 0.7676581144332886),\n",
       " ('suv', 0.6309698224067688),\n",
       " ('autos', 0.6304072141647339),\n",
       " ('minivan', 0.5772275924682617),\n",
       " ('taxi', 0.5581150054931641),\n",
       " ('stonebridge', 0.545106053352356),\n",
       " ('clamped', 0.5318880081176758),\n",
       " ('garage', 0.5303559303283691),\n",
       " ('hertz', 0.526984691619873)]"
      ]
     },
     "execution_count": 11,
     "metadata": {},
     "output_type": "execute_result"
    }
   ],
   "source": [
    "w2v_model.wv.most_similar('car')"
   ]
  },
  {
   "cell_type": "code",
   "execution_count": null,
   "metadata": {},
   "outputs": [],
   "source": []
  }
 ],
 "metadata": {
  "kernelspec": {
   "display_name": "Python 3",
   "language": "python",
   "name": "python3"
  },
  "language_info": {
   "codemirror_mode": {
    "name": "ipython",
    "version": 3
   },
   "file_extension": ".py",
   "mimetype": "text/x-python",
   "name": "python",
   "nbconvert_exporter": "python",
   "pygments_lexer": "ipython3",
   "version": "3.7.6"
  }
 },
 "nbformat": 4,
 "nbformat_minor": 4
}

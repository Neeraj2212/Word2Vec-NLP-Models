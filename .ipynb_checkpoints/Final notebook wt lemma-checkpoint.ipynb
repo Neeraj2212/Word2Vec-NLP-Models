{
 "cells": [
  {
   "cell_type": "code",
   "execution_count": 1,
   "metadata": {},
   "outputs": [],
   "source": [
    "import gensim "
   ]
  },
  {
   "cell_type": "code",
   "execution_count": 2,
   "metadata": {},
   "outputs": [],
   "source": [
    "\n",
    "def get_input(file , data):\n",
    "    with open(file , 'r' , encoding = 'utf8' ,errors = 'ignore') as f:\n",
    "        for text in f.read().split('\\n'):\n",
    "            try :\n",
    "                data.append(gensim.utils.simple_preprocess(gensim.parsing.preprocessing.remove_stopwords(text)))\n",
    "            except:\n",
    "                pass"
   ]
  },
  {
   "cell_type": "code",
   "execution_count": 5,
   "metadata": {},
   "outputs": [],
   "source": [
    "database  = []\n",
    "get_input('reviews_data.txt',database) "
   ]
  },
  {
   "cell_type": "code",
   "execution_count": 9,
   "metadata": {},
   "outputs": [
    {
     "name": "stdout",
     "output_type": "stream",
     "text": [
      "['oct', 'nice', 'trendy', 'hotel', 'location', 'bad', 'stayed', 'hotel', 'night', 'as', 'fairly', 'new', 'place', 'taxi', 'drivers', 'know', 'and', 'or', 'want', 'drive', 'there', 'once', 'eventually', 'arrived', 'hotel', 'pleasantly', 'surprised', 'decor', 'lobby', 'ground', 'floor', 'area', 'it', 'stylish', 'modern', 'reception', 'staff', 'geeting', 'aloha', 'bit', 'place', 'guess', 'briefed', 'coroporate', 'image', 'as', 'starwood', 'preferred', 'guest', 'member', 'given', 'small', 'gift', 'upon', 'check', 'in', 'it', 'couple', 'fridge', 'magnets', 'gift', 'box', 'nice', 'gesture', 'my', 'room', 'nice', 'roomy', 'tea', 'coffee', 'facilities', 'room', 'complimentary', 'bottles', 'water', 'plus', 'toiletries', 'bliss', 'the', 'location', 'great', 'it', 'metro', 'stop', 'need', 'taxi', 'planning', 'going', 'historic', 'sites', 'beijing', 'ok', 'chose', 'breakfast', 'hotel', 'tasty', 'good', 'selection', 'dishes', 'there', 'couple', 'computers', 'use', 'communal', 'area', 'pool', 'table', 'there', 'small', 'swimming', 'pool', 'gym', 'area', 'definitely', 'stay', 'hotel', 'again', 'plan', 'travel', 'central', 'beijing', 'long', 'time', 'the', 'location', 'ok', 'plan', 'lot', 'shopping', 'big', 'shopping', 'centre', 'minutes', 'away', 'hotel', 'plenty', 'eating', 'options', 'around', 'including', 'restaurants', 'serve', 'dog', 'meat']\n"
     ]
    }
   ],
   "source": [
    "print(database[0])"
   ]
  },
  {
   "cell_type": "code",
   "execution_count": 10,
   "metadata": {},
   "outputs": [],
   "source": [
    "from gensim.models import Word2Vec"
   ]
  },
  {
   "cell_type": "code",
   "execution_count": 12,
   "metadata": {},
   "outputs": [],
   "source": [
    "w2v_model = Word2Vec(database,size= 150,window = 10 , min_count = 2,workers = 10)"
   ]
  },
  {
   "cell_type": "code",
   "execution_count": 14,
   "metadata": {},
   "outputs": [
    {
     "data": {
      "text/plain": [
       "(199039119, 223815840)"
      ]
     },
     "execution_count": 14,
     "metadata": {},
     "output_type": "execute_result"
    }
   ],
   "source": [
    "w2v_model.train(database, total_examples = len(database) , epochs = 10)"
   ]
  },
  {
   "cell_type": "code",
   "execution_count": 15,
   "metadata": {},
   "outputs": [],
   "source": [
    "w2v_model.save(\"Final_Model.model\")"
   ]
  },
  {
   "cell_type": "code",
   "execution_count": 17,
   "metadata": {},
   "outputs": [
    {
     "data": {
      "text/plain": [
       "[('played', 0.7104442119598389),\n",
       " ('games', 0.6889438629150391),\n",
       " ('plays', 0.6435895562171936),\n",
       " ('playing', 0.6335393190383911),\n",
       " ('game', 0.6063410043716431),\n",
       " ('roulette', 0.603460431098938),\n",
       " ('keno', 0.5826705694198608),\n",
       " ('giants', 0.582288384437561),\n",
       " ('blackjack', 0.5789220333099365),\n",
       " ('yankees', 0.5730705261230469)]"
      ]
     },
     "execution_count": 17,
     "metadata": {},
     "output_type": "execute_result"
    }
   ],
   "source": [
    "w2v_model.wv.most_similar(\"play\")"
   ]
  },
  {
   "cell_type": "code",
   "execution_count": null,
   "metadata": {},
   "outputs": [],
   "source": []
  },
  {
   "cell_type": "code",
   "execution_count": 40,
   "metadata": {},
   "outputs": [
    {
     "data": {
      "text/plain": [
       "[('vehicle', 0.7823694944381714),\n",
       " ('cars', 0.7660567164421082),\n",
       " ('autos', 0.6348377466201782),\n",
       " ('minivan', 0.5954813957214355),\n",
       " ('suv', 0.5780409574508667),\n",
       " ('stonebridge', 0.5768236517906189),\n",
       " ('taxi', 0.5570834875106812),\n",
       " ('clamped', 0.5443243980407715),\n",
       " ('hertz', 0.5381802916526794),\n",
       " ('unload', 0.5335148572921753)]"
      ]
     },
     "execution_count": 40,
     "metadata": {},
     "output_type": "execute_result"
    }
   ],
   "source": [
    "w2v_model.wv.most_similar('car')"
   ]
  },
  {
   "cell_type": "code",
   "execution_count": null,
   "metadata": {},
   "outputs": [],
   "source": []
  }
 ],
 "metadata": {
  "kernelspec": {
   "display_name": "Python 3",
   "language": "python",
   "name": "python3"
  },
  "language_info": {
   "codemirror_mode": {
    "name": "ipython",
    "version": 3
   },
   "file_extension": ".py",
   "mimetype": "text/x-python",
   "name": "python",
   "nbconvert_exporter": "python",
   "pygments_lexer": "ipython3",
   "version": "3.7.6"
  }
 },
 "nbformat": 4,
 "nbformat_minor": 4
}

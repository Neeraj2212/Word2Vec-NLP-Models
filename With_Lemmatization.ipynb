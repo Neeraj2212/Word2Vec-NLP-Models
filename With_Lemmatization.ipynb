{
 "cells": [
  {
   "cell_type": "code",
   "execution_count": 1,
   "metadata": {},
   "outputs": [],
   "source": [
    "import gensim \n",
    "from gensim.utils import simple_preprocess\n",
    "from gensim.parsing import remove_stopwords,strip_punctuation"
   ]
  },
  {
   "cell_type": "code",
   "execution_count": 2,
   "metadata": {},
   "outputs": [],
   "source": [
    "from spacy.lang.en import English\n",
    "nlp = English()"
   ]
  },
  {
   "cell_type": "code",
   "execution_count": 3,
   "metadata": {},
   "outputs": [],
   "source": [
    "\n",
    "def get_input(file , data):\n",
    "    with open(file , 'r' , encoding = 'utf8' ,errors = 'ignore') as f:\n",
    "        for text in f.read().split('\\n'):\n",
    "            try :\n",
    "                doc  = nlp(' '.join(simple_preprocess(remove_stopwords(strip_punctuation(text.lower())))))\n",
    "                data.append(list(map(lambda x:x.lemma_ , doc)))\n",
    "                    \n",
    "            except:\n",
    "                pass\n",
    "\n",
    "            "
   ]
  },
  {
   "cell_type": "code",
   "execution_count": 4,
   "metadata": {},
   "outputs": [],
   "source": [
    "database  = []\n",
    "get_input('reviews_data.txt',database) "
   ]
  },
  {
   "cell_type": "code",
   "execution_count": 5,
   "metadata": {},
   "outputs": [],
   "source": [
    "from gensim.models import Word2Vec"
   ]
  },
  {
   "cell_type": "code",
   "execution_count": 6,
   "metadata": {},
   "outputs": [],
   "source": [
    "w2v_model = Word2Vec(database,size= 150,window = 10 , min_count = 2,workers = 10)"
   ]
  },
  {
   "cell_type": "code",
   "execution_count": 7,
   "metadata": {},
   "outputs": [
    {
     "data": {
      "text/plain": [
       "(168937232, 194151630)"
      ]
     },
     "execution_count": 7,
     "metadata": {},
     "output_type": "execute_result"
    }
   ],
   "source": [
    "w2v_model.train(database, total_examples = len(database) , epochs = 10)"
   ]
  },
  {
   "cell_type": "code",
   "execution_count": 8,
   "metadata": {},
   "outputs": [],
   "source": [
    "w2v_model.save(\"Improved_Model.model\")"
   ]
  },
  {
   "cell_type": "code",
   "execution_count": 9,
   "metadata": {},
   "outputs": [
    {
     "data": {
      "text/plain": [
       "[('musician', 0.6131511926651001),\n",
       " ('song', 0.6121835708618164),\n",
       " ('game', 0.5916170477867126),\n",
       " ('keno', 0.588781476020813),\n",
       " ('playoff', 0.5786948800086975),\n",
       " ('guitar', 0.567355751991272),\n",
       " ('soccer', 0.5648940205574036),\n",
       " ('drummer', 0.5626730918884277),\n",
       " ('bingo', 0.5576667189598083),\n",
       " ('pianist', 0.556501030921936)]"
      ]
     },
     "execution_count": 9,
     "metadata": {},
     "output_type": "execute_result"
    }
   ],
   "source": [
    "w2v_model.wv.most_similar(\"play\")"
   ]
  },
  {
   "cell_type": "code",
   "execution_count": 10,
   "metadata": {},
   "outputs": [
    {
     "data": {
      "text/plain": [
       "[('amaze', 0.7633216381072998),\n",
       " ('fabulous', 0.740149736404419),\n",
       " ('incredible', 0.7150496244430542),\n",
       " ('great', 0.7037701606750488),\n",
       " ('awsome', 0.6871654987335205),\n",
       " ('fantastic', 0.6837202310562134),\n",
       " ('wonderful', 0.6822420358657837),\n",
       " ('terrific', 0.6422981023788452),\n",
       " ('phenomenal', 0.6356637477874756),\n",
       " ('love', 0.6328110694885254)]"
      ]
     },
     "execution_count": 10,
     "metadata": {},
     "output_type": "execute_result"
    }
   ],
   "source": [
    "w2v_model.wv.most_similar('awesome')"
   ]
  },
  {
   "cell_type": "code",
   "execution_count": 11,
   "metadata": {},
   "outputs": [
    {
     "data": {
      "text/plain": [
       "[('vehicle', 0.7429075241088867),\n",
       " ('scooter', 0.575558066368103),\n",
       " ('suv', 0.5689932107925415),\n",
       " ('bicycle', 0.5645331740379333),\n",
       " ('drive', 0.5432007312774658),\n",
       " ('garage', 0.5431350469589233),\n",
       " ('taxi', 0.5416995286941528),\n",
       " ('handlerey', 0.5302257537841797),\n",
       " ('warden', 0.5286823511123657),\n",
       " ('nissan', 0.5269932746887207)]"
      ]
     },
     "execution_count": 11,
     "metadata": {},
     "output_type": "execute_result"
    }
   ],
   "source": [
    "w2v_model.wv.most_similar('car')"
   ]
  },
  {
   "cell_type": "code",
   "execution_count": 13,
   "metadata": {},
   "outputs": [
    {
     "data": {
      "text/plain": [
       "[('serivce', 0.7179906368255615),\n",
       " ('sevice', 0.6189181804656982),\n",
       " ('roomservice', 0.516775369644165),\n",
       " ('waitstaff', 0.49795693159103394),\n",
       " ('consistently', 0.4929964542388916),\n",
       " ('server', 0.49044564366340637),\n",
       " ('serive', 0.4865936040878296),\n",
       " ('serice', 0.46589404344558716),\n",
       " ('housekkeping', 0.4570271968841553),\n",
       " ('cervice', 0.4372985064983368),\n",
       " ('followup', 0.4347726106643677),\n",
       " ('housekeeping', 0.4234592318534851),\n",
       " ('job', 0.42295435070991516),\n",
       " ('deliver', 0.414318323135376),\n",
       " ('tidyness', 0.4137253761291504),\n",
       " ('attention', 0.40742138028144836),\n",
       " ('staff', 0.39833682775497437),\n",
       " ('norma', 0.3958013355731964),\n",
       " ('personnels', 0.39472511410713196),\n",
       " ('satisfaction', 0.39451587200164795)]"
      ]
     },
     "execution_count": 13,
     "metadata": {},
     "output_type": "execute_result"
    }
   ],
   "source": [
    "w2v_model.wv.most_similar('service',topn = 20)"
   ]
  },
  {
   "cell_type": "code",
   "execution_count": null,
   "metadata": {},
   "outputs": [],
   "source": []
  }
 ],
 "metadata": {
  "kernelspec": {
   "display_name": "Python 3",
   "language": "python",
   "name": "python3"
  },
  "language_info": {
   "codemirror_mode": {
    "name": "ipython",
    "version": 3
   },
   "file_extension": ".py",
   "mimetype": "text/x-python",
   "name": "python",
   "nbconvert_exporter": "python",
   "pygments_lexer": "ipython3",
   "version": "3.7.6"
  }
 },
 "nbformat": 4,
 "nbformat_minor": 4
}
